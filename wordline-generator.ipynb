{
  "nbformat": 4,
  "nbformat_minor": 0,
  "metadata": {
    "colab": {
      "name": "wordline.ipynb",
      "provenance": [],
      "collapsed_sections": []
    },
    "kernelspec": {
      "name": "python3",
      "display_name": "Python 3"
    },
    "language_info": {
      "name": "python"
    }
  },
  "cells": [
    {
      "cell_type": "code",
      "metadata": {
        "colab": {
          "base_uri": "https://localhost:8080/"
        },
        "id": "e4tOtuA8c95h",
        "outputId": "6716eaac-0e24-49e2-fe2c-f83815fef17c"
      },
      "source": [
        "!curl https://norvig.com/ngrams/count_1w.txt -o count_1w.txt "
      ],
      "execution_count": 1,
      "outputs": [
        {
          "output_type": "stream",
          "text": [
            "  % Total    % Received % Xferd  Average Speed   Time    Time     Time  Current\n",
            "                                 Dload  Upload   Total   Spent    Left  Speed\n",
            "100 4840k  100 4840k    0     0  2155k      0  0:00:02  0:00:02 --:--:-- 2154k\n"
          ],
          "name": "stdout"
        }
      ]
    },
    {
      "cell_type": "code",
      "metadata": {
        "colab": {
          "base_uri": "https://localhost:8080/"
        },
        "id": "QXUUgTc2gXQw",
        "outputId": "4337fe59-e233-46ea-fc58-5c063a3f53f9"
      },
      "source": [
        "!curl https://raw.githubusercontent.com/first20hours/google-10000-english/master/google-10000-english-no-swears.txt -o top-10000-no-swears.txt"
      ],
      "execution_count": 2,
      "outputs": [
        {
          "output_type": "stream",
          "text": [
            "  % Total    % Received % Xferd  Average Speed   Time    Time     Time  Current\n",
            "                                 Dload  Upload   Total   Spent    Left  Speed\n",
            "100 75153  100 75153    0     0   206k      0 --:--:-- --:--:-- --:--:--  206k\n"
          ],
          "name": "stdout"
        }
      ]
    },
    {
      "cell_type": "code",
      "metadata": {
        "id": "VH-PAbppgcaM"
      },
      "source": [
        "with open('top-10000-no-swears.txt', 'r') as f:\n",
        "  safe_words = set(list(f.read().splitlines()))"
      ],
      "execution_count": 3,
      "outputs": []
    },
    {
      "cell_type": "code",
      "metadata": {
        "colab": {
          "base_uri": "https://localhost:8080/"
        },
        "id": "tMu1jy6Pgq2L",
        "outputId": "e301a346-2140-4300-ca43-efa077f2587b"
      },
      "source": [
        "len(safe_words)"
      ],
      "execution_count": 4,
      "outputs": [
        {
          "output_type": "execute_result",
          "data": {
            "text/plain": [
              "9894"
            ]
          },
          "metadata": {},
          "execution_count": 4
        }
      ]
    },
    {
      "cell_type": "code",
      "metadata": {
        "id": "CykPM4irJBAp"
      },
      "source": [
        "word_to_count = {}\n",
        "\n",
        "with open('count_1w.txt', 'r') as f:\n",
        "  for x in f.readlines():\n",
        "    word, count = x.split()\n",
        "    if word not in safe_words:\n",
        "      continue\n",
        "    if len(word) < 3 or len(word) > 6:\n",
        "      continue\n",
        "\n",
        "    invalid = False\n",
        "    for i in range(len(word)-1):\n",
        "      if word[i] == word[i+1]:\n",
        "        invalid = True\n",
        "        break\n",
        "    if invalid:\n",
        "      continue\n",
        "    word_to_count[word] = int(count)"
      ],
      "execution_count": 5,
      "outputs": []
    },
    {
      "cell_type": "code",
      "metadata": {
        "id": "1Ma_mewV-hjm"
      },
      "source": [
        "LINE_SIZE = 7\n",
        "DICTIONARY_SIZE = 720\n",
        "WORD_SIZE = 6\n",
        "FIG_SIZE = 4\n",
        "SIDE_SIZE = 3"
      ],
      "execution_count": 37,
      "outputs": []
    },
    {
      "cell_type": "code",
      "metadata": {
        "colab": {
          "base_uri": "https://localhost:8080/"
        },
        "id": "nn8Igl0g-uA9",
        "outputId": "e38cedca-7d9c-4c2c-c925-d50d8477d796"
      },
      "source": [
        "!curl https://raw.githubusercontent.com/dwyl/english-words/master/words_dictionary.json -o full_dictionary.json"
      ],
      "execution_count": 38,
      "outputs": [
        {
          "output_type": "stream",
          "text": [
            "  % Total    % Received % Xferd  Average Speed   Time    Time     Time  Current\n",
            "                                 Dload  Upload   Total   Spent    Left  Speed\n",
            "\r  0     0    0     0    0     0      0      0 --:--:-- --:--:-- --:--:--     0\r100 6665k  100 6665k    0     0  28.8M      0 --:--:-- --:--:-- --:--:-- 28.8M\n"
          ],
          "name": "stdout"
        }
      ]
    },
    {
      "cell_type": "code",
      "metadata": {
        "colab": {
          "base_uri": "https://localhost:8080/"
        },
        "id": "0xekA3hnqwoD",
        "outputId": "a91fbdf4-c4c6-43c5-aa79-43c1305c16cd"
      },
      "source": [
        "!curl https://raw.githubusercontent.com/fogleman/TWL06/master/twl.py -o twl.py"
      ],
      "execution_count": 39,
      "outputs": [
        {
          "output_type": "stream",
          "text": [
            "  % Total    % Received % Xferd  Average Speed   Time    Time     Time  Current\n",
            "                                 Dload  Upload   Total   Spent    Left  Speed\n",
            "\r  0     0    0     0    0     0      0      0 --:--:-- --:--:-- --:--:--     0\r100  507k  100  507k    0     0  7813k      0 --:--:-- --:--:-- --:--:-- 7935k\n"
          ],
          "name": "stdout"
        }
      ]
    },
    {
      "cell_type": "code",
      "metadata": {
        "id": "aZSkC74l-xyJ"
      },
      "source": [
        "import json\n",
        "import twl\n",
        "\n",
        "# with open('full_dictionary.json') as json_file:\n",
        "#     full_dictionary = json.load(json_file)\n",
        "\n",
        "def is_generateable(word, figure):\n",
        "  if len(word) > 6 or len(word) < 3:\n",
        "    return False\n",
        "  for i in range(len(word)-1):\n",
        "    cando = False\n",
        "    for side_j in figure:\n",
        "      for side_k in figure:\n",
        "        if side_j == side_k:\n",
        "          continue\n",
        "        if word[i] in side_j and word[i+1] in side_k:\n",
        "          cando = True\n",
        "          break\n",
        "    if not cando:\n",
        "      return False\n",
        "  return True\n",
        "\n",
        "def get_full_dict(figure):\n",
        "  seed_dict = []\n",
        "  for word in twl.iterator():\n",
        "    if is_generateable(word, figure):\n",
        "      seed_dict.append(word)\n",
        "\n",
        "  return seed_dict"
      ],
      "execution_count": 40,
      "outputs": []
    },
    {
      "cell_type": "code",
      "metadata": {
        "id": "uX0JSwVwJXUI",
        "colab": {
          "base_uri": "https://localhost:8080/",
          "height": 477
        },
        "outputId": "14c91631-45b2-434e-fe65-01878ad8e772"
      },
      "source": [
        "import random\n",
        "import numpy as np\n",
        "import string\n",
        "from copy import deepcopy\n",
        "import time\n",
        "\n",
        "rolls = 0\n",
        "st = time.time()\n",
        "while True:\n",
        "  rolls += 1\n",
        "  if rolls % 100 == 0:\n",
        "    print(\"Rolls: {}, Elapsed time: {}\".format(rolls, time.time()-st))\n",
        "  ch = random.choice(string.ascii_lowercase)\n",
        "  res = [ []*3 for i in range(4)]\n",
        "  prev_side = random.choice(list(range(4)))\n",
        "  res[prev_side].append(ch)\n",
        "  charset = set([ch])\n",
        "  past_words = set()\n",
        "\n",
        "  def can_use(chosen_word):\n",
        "    global res, prev_side, charset\n",
        "    modded_res = deepcopy(res)\n",
        "    modded_prev_side = prev_side\n",
        "    modded_charset = deepcopy(charset)\n",
        "    is_first_letter = True\n",
        "    for char in chosen_word:\n",
        "      if char not in modded_charset:\n",
        "        found_side = None\n",
        "        side_ordering = np.random.permutation(list(range(4)))\n",
        "        for side in side_ordering:\n",
        "          if side == modded_prev_side:\n",
        "            continue\n",
        "          if len(modded_res[side]) == 3:\n",
        "            continue\n",
        "          found_side = side\n",
        "          break\n",
        "        if found_side is None:\n",
        "          return False\n",
        "        modded_res[found_side].append(char)\n",
        "        modded_prev_side = found_side\n",
        "        modded_charset.add(char)\n",
        "      else:\n",
        "        for i in range(4):\n",
        "          if char in modded_res[i]:\n",
        "            # print(char, i)\n",
        "            if i == modded_prev_side and not is_first_letter:\n",
        "              return False\n",
        "            modded_prev_side = i\n",
        "      is_first_letter = False\n",
        "    res = modded_res\n",
        "    prev_side = modded_prev_side\n",
        "    charset = modded_charset\n",
        "    past_words.add(chosen_word)\n",
        "    return True\n",
        "\n",
        "\n",
        "  chosen_word_soln = []\n",
        "  while len(charset) < 12 and len(past_words) < 5:\n",
        "    filtered_words = list(filter(lambda x: x.startswith(ch) and x not in past_words, list(word_to_count.keys())))\n",
        "    filtered_weights = [word_to_count[word] for word in filtered_words]\n",
        "    sum_w = sum(filtered_weights)\n",
        "    filtered_weights = [x/sum_w for x in filtered_weights]\n",
        "    chosen_word = None\n",
        "    iter = 0\n",
        "    while (chosen_word is None or not can_use(chosen_word)) and iter < 100:\n",
        "      chosen_word = np.random.choice(filtered_words, p=filtered_weights)\n",
        "      iter += 1\n",
        "    \n",
        "    # print(chosen_word, word_to_count[chosen_word])\n",
        "    chosen_word_soln.append(chosen_word)\n",
        "    ch = chosen_word[-1]\n",
        "\n",
        "  def is_figure_nice(figure):\n",
        "    if len(figure) != FIG_SIZE:\n",
        "      return False\n",
        "    for side in figure:\n",
        "      if len(side) != SIDE_SIZE:\n",
        "        return False\n",
        "    \n",
        "    return True\n",
        "\n",
        "  figure = list([list(np.random.permutation(x)) for x in res])\n",
        "  if not is_figure_nice(figure):\n",
        "    continue\n",
        "  dict_size = len(get_full_dict(figure))\n",
        "  if dict_size > DICTIONARY_SIZE:\n",
        "    continue\n",
        "  print(\"Natural soln: {}\".format(chosen_word_soln))\n",
        "  print(\"Figure: {}\".format(figure))\n",
        "  print(\"Dict size: {}\".format(dict_size))"
      ],
      "execution_count": 9,
      "outputs": [
        {
          "output_type": "stream",
          "text": [
            "Natural soln: ['expand', 'dozen', 'new', 'what', 'tel']\n",
            "Figure: [['n', 'w', 'o'], ['e', 'p', 'h'], ['l', 'z', 't'], ['a', 'd', 'x']]\n",
            "Dict size: 873\n",
            "Natural soln: ['such', 'having', 'gzip', 'pop']\n",
            "Figure: [['s', 'h', 'v'], ['o', 'g', 'i'], ['z', 'c', 'n'], ['p', 'u', 'a']]\n",
            "Dict size: 990\n"
          ],
          "name": "stdout"
        },
        {
          "output_type": "error",
          "ename": "KeyboardInterrupt",
          "evalue": "ignored",
          "traceback": [
            "\u001b[0;31m---------------------------------------------------------------------------\u001b[0m",
            "\u001b[0;31mKeyboardInterrupt\u001b[0m                         Traceback (most recent call last)",
            "\u001b[0;32m<ipython-input-9-5348ade12bad>\u001b[0m in \u001b[0;36m<module>\u001b[0;34m()\u001b[0m\n\u001b[1;32m     83\u001b[0m   \u001b[0;32mif\u001b[0m \u001b[0;32mnot\u001b[0m \u001b[0mis_figure_nice\u001b[0m\u001b[0;34m(\u001b[0m\u001b[0mfigure\u001b[0m\u001b[0;34m)\u001b[0m\u001b[0;34m:\u001b[0m\u001b[0;34m\u001b[0m\u001b[0;34m\u001b[0m\u001b[0m\n\u001b[1;32m     84\u001b[0m     \u001b[0;32mcontinue\u001b[0m\u001b[0;34m\u001b[0m\u001b[0;34m\u001b[0m\u001b[0m\n\u001b[0;32m---> 85\u001b[0;31m   \u001b[0mdict_size\u001b[0m \u001b[0;34m=\u001b[0m \u001b[0mlen\u001b[0m\u001b[0;34m(\u001b[0m\u001b[0mget_full_dict\u001b[0m\u001b[0;34m(\u001b[0m\u001b[0mfigure\u001b[0m\u001b[0;34m)\u001b[0m\u001b[0;34m)\u001b[0m\u001b[0;34m\u001b[0m\u001b[0;34m\u001b[0m\u001b[0m\n\u001b[0m\u001b[1;32m     86\u001b[0m   \u001b[0;32mif\u001b[0m \u001b[0mdict_size\u001b[0m \u001b[0;34m>\u001b[0m \u001b[0mDICTIONARY_SIZE\u001b[0m\u001b[0;34m:\u001b[0m\u001b[0;34m\u001b[0m\u001b[0;34m\u001b[0m\u001b[0m\n\u001b[1;32m     87\u001b[0m     \u001b[0;32mcontinue\u001b[0m\u001b[0;34m\u001b[0m\u001b[0;34m\u001b[0m\u001b[0m\n",
            "\u001b[0;32m<ipython-input-8-cc597b7f57f4>\u001b[0m in \u001b[0;36mget_full_dict\u001b[0;34m(figure)\u001b[0m\n\u001b[1;32m     23\u001b[0m   \u001b[0mseed_dict\u001b[0m \u001b[0;34m=\u001b[0m \u001b[0;34m[\u001b[0m\u001b[0;34m]\u001b[0m\u001b[0;34m\u001b[0m\u001b[0;34m\u001b[0m\u001b[0m\n\u001b[1;32m     24\u001b[0m   \u001b[0;32mfor\u001b[0m \u001b[0mword\u001b[0m \u001b[0;32min\u001b[0m \u001b[0mfull_dictionary\u001b[0m\u001b[0;34m.\u001b[0m\u001b[0mkeys\u001b[0m\u001b[0;34m(\u001b[0m\u001b[0;34m)\u001b[0m\u001b[0;34m:\u001b[0m\u001b[0;34m\u001b[0m\u001b[0;34m\u001b[0m\u001b[0m\n\u001b[0;32m---> 25\u001b[0;31m     \u001b[0;32mif\u001b[0m \u001b[0mis_generateable\u001b[0m\u001b[0;34m(\u001b[0m\u001b[0mword\u001b[0m\u001b[0;34m,\u001b[0m \u001b[0mfigure\u001b[0m\u001b[0;34m)\u001b[0m\u001b[0;34m:\u001b[0m\u001b[0;34m\u001b[0m\u001b[0;34m\u001b[0m\u001b[0m\n\u001b[0m\u001b[1;32m     26\u001b[0m       \u001b[0mseed_dict\u001b[0m\u001b[0;34m.\u001b[0m\u001b[0mappend\u001b[0m\u001b[0;34m(\u001b[0m\u001b[0mword\u001b[0m\u001b[0;34m)\u001b[0m\u001b[0;34m\u001b[0m\u001b[0;34m\u001b[0m\u001b[0m\n\u001b[1;32m     27\u001b[0m \u001b[0;34m\u001b[0m\u001b[0m\n",
            "\u001b[0;32m<ipython-input-8-cc597b7f57f4>\u001b[0m in \u001b[0;36mis_generateable\u001b[0;34m(word, figure)\u001b[0m\n\u001b[1;32m     13\u001b[0m         \u001b[0;32mif\u001b[0m \u001b[0mside_j\u001b[0m \u001b[0;34m==\u001b[0m \u001b[0mside_k\u001b[0m\u001b[0;34m:\u001b[0m\u001b[0;34m\u001b[0m\u001b[0;34m\u001b[0m\u001b[0m\n\u001b[1;32m     14\u001b[0m           \u001b[0;32mcontinue\u001b[0m\u001b[0;34m\u001b[0m\u001b[0;34m\u001b[0m\u001b[0m\n\u001b[0;32m---> 15\u001b[0;31m         \u001b[0;32mif\u001b[0m \u001b[0mword\u001b[0m\u001b[0;34m[\u001b[0m\u001b[0mi\u001b[0m\u001b[0;34m]\u001b[0m \u001b[0;32min\u001b[0m \u001b[0mside_j\u001b[0m \u001b[0;32mand\u001b[0m \u001b[0mword\u001b[0m\u001b[0;34m[\u001b[0m\u001b[0mi\u001b[0m\u001b[0;34m+\u001b[0m\u001b[0;36m1\u001b[0m\u001b[0;34m]\u001b[0m \u001b[0;32min\u001b[0m \u001b[0mside_k\u001b[0m\u001b[0;34m:\u001b[0m\u001b[0;34m\u001b[0m\u001b[0;34m\u001b[0m\u001b[0m\n\u001b[0m\u001b[1;32m     16\u001b[0m           \u001b[0mcando\u001b[0m \u001b[0;34m=\u001b[0m \u001b[0;32mTrue\u001b[0m\u001b[0;34m\u001b[0m\u001b[0;34m\u001b[0m\u001b[0m\n\u001b[1;32m     17\u001b[0m           \u001b[0;32mbreak\u001b[0m\u001b[0;34m\u001b[0m\u001b[0;34m\u001b[0m\u001b[0m\n",
            "\u001b[0;31mKeyboardInterrupt\u001b[0m: "
          ]
        }
      ]
    },
    {
      "cell_type": "code",
      "metadata": {
        "id": "UBN-uRCVazEL"
      },
      "source": [
        "# bad game seeds\n",
        "bad_seeds = [\n",
        "    {\n",
        "        'figure': [['e', 'o', 'a'], ['n', 'l', 't'], ['r', 's', 'g'], ['v', 'i', 'd']],\n",
        "        'solution': ['starting', 'gold', 'design', 'national', 'live'],\n",
        "    },\n",
        "    {\n",
        "        'figure': [['c', 'e', 'y'], ['p', 'l', 'o'], ['i', 'u', 't'], ['v', 'm', 'r']],\n",
        "        'solution': ['improve', 'electric', 'city', 'your'],\n",
        "    },\n",
        "    {\n",
        "        'figure': [['i', 'n', 'e'], ['m', 'r', 's'], ['t', 'u', 'f'], ['o', 'd', 'l']],\n",
        "        'solution': ['for', 'results', 'stories', 'some', 'end'],\n",
        "    },\n",
        "    {\n",
        "        'figure': [['a', 's', 'e'], ['c', 'i', 'p'], ['t', 'l', 'n'], ['b', 'd', 'm']],\n",
        "        'solution': ['dance', 'email', 'labs', 'split'],\n",
        "    },    \n",
        "    {\n",
        "        'figure': [['l', 'c', 'f'], ['i', 'o', 'h'], ['b', 'p', 'e'], ['u', 'r', 'a']],\n",
        "        'solution': ['blue', 'each', 'help', 'profile'],\n",
        "    }\n",
        "]"
      ],
      "execution_count": 41,
      "outputs": []
    },
    {
      "cell_type": "code",
      "metadata": {
        "id": "QLmWL_CwC6uA"
      },
      "source": [
        "# good game seeds\n",
        "good_seeds = [\n",
        "    {\n",
        "        'figure': [['l', 'u', 'k'], ['r', 'm', 'i'], ['s', 'c', 'n'], ['o', 'g', 'f']],\n",
        "        'line': ['from', 'music', 'click', 'king'],\n",
        "    },\n",
        "    {\n",
        "        'figure': [['i', 'y', 'n'], ['k', 'v', 'u'], ['t', 'e', 'r'], ['o', 'c', 'h']],\n",
        "        'line': ['the', 'entry', 'your', 'river', 'rock'],\n",
        "    },\n",
        "]\n",
        "\n",
        "for seed in good_seeds:\n",
        "  seed['dict'] = get_full_dict(seed['figure'])"
      ],
      "execution_count": 42,
      "outputs": []
    },
    {
      "cell_type": "code",
      "metadata": {
        "id": "BMpFZ6LiF9Qt"
      },
      "source": [
        "CHUNK_SIZE = 8\n",
        "COMPRESSED_DICTIONARY_SIZE = 90"
      ],
      "execution_count": 48,
      "outputs": []
    },
    {
      "cell_type": "code",
      "metadata": {
        "id": "2_L2MgcDDZc4"
      },
      "source": [
        "def get_poly_hash(wordlist):\n",
        "  res = 0\n",
        "  for val in wordlist:\n",
        "    res = res*32 + val\n",
        "  return res\n",
        "\n",
        "def string_to_hash(word, req_len):\n",
        "  res = []\n",
        "  for ch in word:\n",
        "\n",
        "    res.append(ord(ch) - ord('a'))\n",
        "\n",
        "  while len(res) < req_len:\n",
        "    res.append(27)\n",
        "  return get_poly_hash(res)\n",
        "\n",
        "def compress_hashes(words, chunk_len, req_len):\n",
        "  chunked_words = [words[i:i+chunk_len] for i in range(0, len(words), chunk_len)]\n",
        "  print(words, chunked_words)\n",
        "  res = []\n",
        "  for chunk in chunked_words:\n",
        "    hash = 0\n",
        "    for i in range(chunk_len):\n",
        "      if i < len(chunk):\n",
        "        hash = hash*(32**req_len) + string_to_hash(chunk[i], req_len)\n",
        "      else:\n",
        "        hash = hash*(32**req_len) + get_poly_hash([28]*req_len)\n",
        "    res.append(hash)\n",
        "  return res\n",
        "\n",
        "def get_computer_readable_form(seed):\n",
        "  # Verify conditions\n",
        "  assert len(seed['figure']) == FIG_SIZE\n",
        "  for side in seed['figure']:\n",
        "    assert len(side) == SIDE_SIZE\n",
        "  \n",
        "  assert len(seed['dict']) <= DICTIONARY_SIZE\n",
        "  for word in seed['dict']:\n",
        "    assert len(word) <= WORD_SIZE\n",
        "\n",
        "  assert len(seed['line']) <= LINE_SIZE\n",
        "  \n",
        "  def get_padding(chunk_len, req_len):\n",
        "    x = get_poly_hash([28]*req_len)\n",
        "    return sum(x*((32**req_len)**i) for i in range(chunk_len))\n",
        "  comp_dictionary = compress_hashes(seed['dict'], CHUNK_SIZE, WORD_SIZE)\n",
        "  while len(comp_dictionary) < COMPRESSED_DICTIONARY_SIZE:\n",
        "    comp_dictionary.append(get_padding(CHUNK_SIZE, WORD_SIZE))\n",
        "  \n",
        "  comp_line = [string_to_hash(word, WORD_SIZE) for word in seed['line']]\n",
        "  while len(comp_line) < LINE_SIZE:\n",
        "    comp_line.append(get_padding(1, WORD_SIZE))\n",
        "  \n",
        "  unrolled_fig = [item for sublist in seed['figure'] for item in sublist]\n",
        "  comp_figure = string_to_hash(unrolled_fig, 12)\n",
        "\n",
        "  comp_line = [str(x) for x in comp_line]\n",
        "  comp_figure = str(comp_figure)\n",
        "  comp_dictionary = [str(x) for x in comp_dictionary]\n",
        "  return {\n",
        "      'line': comp_line,\n",
        "      'figure': comp_figure,\n",
        "      'compressed_dictionary': comp_dictionary,\n",
        "      'address': \"FILL_HERE\",\n",
        "      'private_address': \"FILL_HERE\"\n",
        "  }"
      ],
      "execution_count": 49,
      "outputs": []
    },
    {
      "cell_type": "code",
      "metadata": {
        "id": "mYfoi1UxLnMa",
        "colab": {
          "base_uri": "https://localhost:8080/"
        },
        "outputId": "d6580df2-48f3-45be-942b-7c225cf8735a"
      },
      "source": [
        "import json\n",
        "import random\n",
        "from copy import deepcopy\n",
        "\n",
        "tmp_seed = deepcopy(good_seeds[0])\n",
        "\n",
        "print(tmp_seed)\n",
        "print(len(tmp_seed['dict']))\n",
        "comp_form = get_computer_readable_form(tmp_seed)\n",
        "print(len(comp_form['compressed_dictionary']))\n",
        "print(comp_form)\n",
        "with open(\"seed.json\", \"w\") as outfile:\n",
        "    json.dump(comp_form, outfile)"
      ],
      "execution_count": 50,
      "outputs": [
        {
          "output_type": "stream",
          "text": [
            "{'figure': [['l', 'u', 'k'], ['r', 'm', 'i'], ['s', 'c', 'n'], ['o', 'g', 'f']], 'line': ['from', 'music', 'click', 'king'], 'dict': ['cig', 'cigs', 'cilium', 'cion', 'cis', 'click', 'clicks', 'cling', 'clings', 'clinic', 'clink', 'clinks', 'clock', 'clocks', 'clon', 'clonic', 'clonk', 'clonks', 'clonus', 'clour', 'clours', 'cock', 'cocks', 'coco', 'cocos', 'coif', 'coifs', 'coign', 'coil', 'coils', 'coin', 'coking', 'col', 'colic', 'colin', 'colon', 'coloni', 'color', 'colors', 'colour', 'cols', 'comous', 'con', 'coni', 'conic', 'conin', 'coning', 'conium', 'conk', 'conks', 'conus', 'cor', 'corf', 'corgi', 'corgis', 'cork', 'corks', 'corn', 'cornu', 'cornus', 'cors', 'cos', 'cosign', 'cosmos', 'cousin', 'croc', 'croci', 'crock', 'crocks', 'crocus', 'cru', 'cruck', 'crucks', 'cruor', 'cruors', 'crus', 'cuif', 'cuifs', 'cuing', 'cum', 'cur', 'curf', 'curfs', 'curl', 'curls', 'curn', 'curs', 'cursor', 'cusk', 'cusks', 'ficin', 'fico', 'ficus', 'fifing', 'fig', 'figs', 'fil', 'filing', 'film', 'films', 'filo', 'filos', 'fils', 'fin', 'fining', 'finis', 'fink', 'finks', 'fino', 'finos', 'flic', 'flick', 'flicks', 'fling', 'flings', 'floc', 'flock', 'flocks', 'flong', 'flongs', 'flour', 'flours', 'fro', 'frock', 'frocks', 'frolic', 'from', 'frug', 'frugs', 'fuci', 'fuck', 'fucks', 'fucous', 'fucus', 'fug', 'fugio', 'fugios', 'fugs', 'fugu', 'fugus', 'fun', 'fungi', 'fungic', 'fungus', 'funk', 'funks', 'fur', 'furfur', 'furl', 'furls', 'furor', 'furors', 'furs', 'fusil', 'fusils', 'fusing', 'fusion', 'gig', 'gigs', 'gin', 'gingko', 'gink', 'ginks', 'gismo', 'gismos', 'glom', 'gloms', 'glomus', 'gnomon', 'gnosis', 'gnu', 'gnus', 'groin', 'grok', 'groks', 'grugru', 'grum', 'guck', 'gucks', 'gum', 'gums', 'gun', 'gunk', 'gunks', 'guru', 'gurus', 'icing', 'icings', 'ick', 'icon', 'iconic', 'ifs', 'ikon', 'ilium', 'inion', 'ink', 'inking', 'inks', 'inro', 'inrun', 'inurn', 'ion', 'ionic', 'ionium', 'isling', 'ism', 'isms', 'kick', 'kicks', 'kif', 'kifs', 'kiln', 'kilo', 'kilos', 'kin', 'king', 'kings', 'kinin', 'kink', 'kinks', 'kino', 'kinos', 'kiosk', 'kiosks', 'kis', 'knock', 'knocks', 'knur', 'knurl', 'knurls', 'knurs', 'koi', 'kois', 'kolo', 'kolos', 'konk', 'konks', 'kor', 'kors', 'korun', 'kos', 'kouroi', 'kouros', 'kronor', 'kronur', 'lick', 'licks', 'lignin', 'liking', 'lilo', 'lilos', 'lin', 'ling', 'lings', 'linin', 'lining', 'link', 'links', 'lino', 'linos', 'linum', 'linums', 'lion', 'lis', 'loci', 'lock', 'locks', 'loco', 'locos', 'locum', 'locums', 'locus', 'loin', 'long', 'longs', 'lorn', 'losing', 'louis', 'lour', 'lours', 'moc', 'mock', 'mocks', 'moil', 'moils', 'mol', 'mols', 'mom', 'moms', 'momus', 'mon', 'monism', 'monk', 'monks', 'mono', 'monos', 'mor', 'morn', 'moron', 'mors', 'mos', 'mosk', 'mosks', 'mourn', 'mucin', 'muck', 'mucks', 'mucor', 'mucors', 'mucous', 'mucro', 'mucus', 'mug', 'mugs', 'mum', 'mums', 'mumu', 'mumus', 'mun', 'muni', 'munis', 'muon', 'muonic', 'murk', 'murks', 'mus', 'music', 'musick', 'musing', 'musk', 'musks', 'muslin', 'nick', 'nicks', 'nicol', 'nicols', 'nil', 'nils', 'ninon', 'nisi', 'nisus', 'nock', 'nocks', 'noil', 'noils', 'nolo', 'nolos', 'nom', 'nomoi', 'nomos', 'noms', 'nor', 'nos', 'nosing', 'noun', 'nous', 'nun', 'nurl', 'nurls', 'nus', 'oil', 'oiling', 'oils', 'oink', 'oinks', 'olio', 'olios', 'oms', 'onion', 'onium', 'ono', 'onos', 'onus', 'orc', 'orcin', 'orgic', 'orlon', 'ornis', 'ors', 'osmol', 'osmols', 'osmous', 'our', 'ours', 'roc', 'rock', 'rocks', 'rococo', 'roil', 'roils', 'rolf', 'rolfs', 'rom', 'roms', 'ronion', 'rosin', 'rosing', 'ruck', 'rucks', 'rug', 'rugs', 'ruin', 'ruing', 'rum', 'rumor', 'rumors', 'rumour', 'rums', 'run', 'rung', 'rungs', 'runic', 'rusk', 'rusks', 'sic', 'sick', 'sicko', 'sickos', 'sicks', 'sigil', 'sigils', 'sigloi', 'siglos', 'sign', 'signor', 'silo', 'silos', 'sin', 'sing', 'sings', 'sink', 'sinks', 'sinus', 'sis', 'siskin', 'ski', 'skin', 'skink', 'skinks', 'skis', 'slick', 'slicks', 'sling', 'slings', 'slink', 'slinks', 'smock', 'smocks', 'smug', 'sock', 'socko', 'socks', 'soil', 'soils', 'sokol', 'sokols', 'sol', 'soli', 'soling', 'solion', 'solo', 'solon', 'solos', 'sols', 'som', 'somoni', 'soms', 'son', 'song', 'songs', 'sonic', 'sorn', 'sorus', 'sos', 'sou', 'sour', 'sours', 'sous', 'suck', 'sucks', 'suing', 'sum', 'sumo', 'sumos', 'sums', 'sun', 'sung', 'sunk', 'surf', 'surfs', 'suslik', 'unfurl', 'unguis', 'unific', 'union', 'unison', 'unkink', 'unlink', 'unlock', 'urging', 'urn', 'urus', 'using']}\n",
            "503\n",
            "['cig', 'cigs', 'cilium', 'cion', 'cis', 'click', 'clicks', 'cling', 'clings', 'clinic', 'clink', 'clinks', 'clock', 'clocks', 'clon', 'clonic', 'clonk', 'clonks', 'clonus', 'clour', 'clours', 'cock', 'cocks', 'coco', 'cocos', 'coif', 'coifs', 'coign', 'coil', 'coils', 'coin', 'coking', 'col', 'colic', 'colin', 'colon', 'coloni', 'color', 'colors', 'colour', 'cols', 'comous', 'con', 'coni', 'conic', 'conin', 'coning', 'conium', 'conk', 'conks', 'conus', 'cor', 'corf', 'corgi', 'corgis', 'cork', 'corks', 'corn', 'cornu', 'cornus', 'cors', 'cos', 'cosign', 'cosmos', 'cousin', 'croc', 'croci', 'crock', 'crocks', 'crocus', 'cru', 'cruck', 'crucks', 'cruor', 'cruors', 'crus', 'cuif', 'cuifs', 'cuing', 'cum', 'cur', 'curf', 'curfs', 'curl', 'curls', 'curn', 'curs', 'cursor', 'cusk', 'cusks', 'ficin', 'fico', 'ficus', 'fifing', 'fig', 'figs', 'fil', 'filing', 'film', 'films', 'filo', 'filos', 'fils', 'fin', 'fining', 'finis', 'fink', 'finks', 'fino', 'finos', 'flic', 'flick', 'flicks', 'fling', 'flings', 'floc', 'flock', 'flocks', 'flong', 'flongs', 'flour', 'flours', 'fro', 'frock', 'frocks', 'frolic', 'from', 'frug', 'frugs', 'fuci', 'fuck', 'fucks', 'fucous', 'fucus', 'fug', 'fugio', 'fugios', 'fugs', 'fugu', 'fugus', 'fun', 'fungi', 'fungic', 'fungus', 'funk', 'funks', 'fur', 'furfur', 'furl', 'furls', 'furor', 'furors', 'furs', 'fusil', 'fusils', 'fusing', 'fusion', 'gig', 'gigs', 'gin', 'gingko', 'gink', 'ginks', 'gismo', 'gismos', 'glom', 'gloms', 'glomus', 'gnomon', 'gnosis', 'gnu', 'gnus', 'groin', 'grok', 'groks', 'grugru', 'grum', 'guck', 'gucks', 'gum', 'gums', 'gun', 'gunk', 'gunks', 'guru', 'gurus', 'icing', 'icings', 'ick', 'icon', 'iconic', 'ifs', 'ikon', 'ilium', 'inion', 'ink', 'inking', 'inks', 'inro', 'inrun', 'inurn', 'ion', 'ionic', 'ionium', 'isling', 'ism', 'isms', 'kick', 'kicks', 'kif', 'kifs', 'kiln', 'kilo', 'kilos', 'kin', 'king', 'kings', 'kinin', 'kink', 'kinks', 'kino', 'kinos', 'kiosk', 'kiosks', 'kis', 'knock', 'knocks', 'knur', 'knurl', 'knurls', 'knurs', 'koi', 'kois', 'kolo', 'kolos', 'konk', 'konks', 'kor', 'kors', 'korun', 'kos', 'kouroi', 'kouros', 'kronor', 'kronur', 'lick', 'licks', 'lignin', 'liking', 'lilo', 'lilos', 'lin', 'ling', 'lings', 'linin', 'lining', 'link', 'links', 'lino', 'linos', 'linum', 'linums', 'lion', 'lis', 'loci', 'lock', 'locks', 'loco', 'locos', 'locum', 'locums', 'locus', 'loin', 'long', 'longs', 'lorn', 'losing', 'louis', 'lour', 'lours', 'moc', 'mock', 'mocks', 'moil', 'moils', 'mol', 'mols', 'mom', 'moms', 'momus', 'mon', 'monism', 'monk', 'monks', 'mono', 'monos', 'mor', 'morn', 'moron', 'mors', 'mos', 'mosk', 'mosks', 'mourn', 'mucin', 'muck', 'mucks', 'mucor', 'mucors', 'mucous', 'mucro', 'mucus', 'mug', 'mugs', 'mum', 'mums', 'mumu', 'mumus', 'mun', 'muni', 'munis', 'muon', 'muonic', 'murk', 'murks', 'mus', 'music', 'musick', 'musing', 'musk', 'musks', 'muslin', 'nick', 'nicks', 'nicol', 'nicols', 'nil', 'nils', 'ninon', 'nisi', 'nisus', 'nock', 'nocks', 'noil', 'noils', 'nolo', 'nolos', 'nom', 'nomoi', 'nomos', 'noms', 'nor', 'nos', 'nosing', 'noun', 'nous', 'nun', 'nurl', 'nurls', 'nus', 'oil', 'oiling', 'oils', 'oink', 'oinks', 'olio', 'olios', 'oms', 'onion', 'onium', 'ono', 'onos', 'onus', 'orc', 'orcin', 'orgic', 'orlon', 'ornis', 'ors', 'osmol', 'osmols', 'osmous', 'our', 'ours', 'roc', 'rock', 'rocks', 'rococo', 'roil', 'roils', 'rolf', 'rolfs', 'rom', 'roms', 'ronion', 'rosin', 'rosing', 'ruck', 'rucks', 'rug', 'rugs', 'ruin', 'ruing', 'rum', 'rumor', 'rumors', 'rumour', 'rums', 'run', 'rung', 'rungs', 'runic', 'rusk', 'rusks', 'sic', 'sick', 'sicko', 'sickos', 'sicks', 'sigil', 'sigils', 'sigloi', 'siglos', 'sign', 'signor', 'silo', 'silos', 'sin', 'sing', 'sings', 'sink', 'sinks', 'sinus', 'sis', 'siskin', 'ski', 'skin', 'skink', 'skinks', 'skis', 'slick', 'slicks', 'sling', 'slings', 'slink', 'slinks', 'smock', 'smocks', 'smug', 'sock', 'socko', 'socks', 'soil', 'soils', 'sokol', 'sokols', 'sol', 'soli', 'soling', 'solion', 'solo', 'solon', 'solos', 'sols', 'som', 'somoni', 'soms', 'son', 'song', 'songs', 'sonic', 'sorn', 'sorus', 'sos', 'sou', 'sour', 'sours', 'sous', 'suck', 'sucks', 'suing', 'sum', 'sumo', 'sumos', 'sums', 'sun', 'sung', 'sunk', 'surf', 'surfs', 'suslik', 'unfurl', 'unguis', 'unific', 'union', 'unison', 'unkink', 'unlink', 'unlock', 'urging', 'urn', 'urus', 'using'] [['cig', 'cigs', 'cilium', 'cion', 'cis', 'click', 'clicks', 'cling'], ['clings', 'clinic', 'clink', 'clinks', 'clock', 'clocks', 'clon', 'clonic'], ['clonk', 'clonks', 'clonus', 'clour', 'clours', 'cock', 'cocks', 'coco'], ['cocos', 'coif', 'coifs', 'coign', 'coil', 'coils', 'coin', 'coking'], ['col', 'colic', 'colin', 'colon', 'coloni', 'color', 'colors', 'colour'], ['cols', 'comous', 'con', 'coni', 'conic', 'conin', 'coning', 'conium'], ['conk', 'conks', 'conus', 'cor', 'corf', 'corgi', 'corgis', 'cork'], ['corks', 'corn', 'cornu', 'cornus', 'cors', 'cos', 'cosign', 'cosmos'], ['cousin', 'croc', 'croci', 'crock', 'crocks', 'crocus', 'cru', 'cruck'], ['crucks', 'cruor', 'cruors', 'crus', 'cuif', 'cuifs', 'cuing', 'cum'], ['cur', 'curf', 'curfs', 'curl', 'curls', 'curn', 'curs', 'cursor'], ['cusk', 'cusks', 'ficin', 'fico', 'ficus', 'fifing', 'fig', 'figs'], ['fil', 'filing', 'film', 'films', 'filo', 'filos', 'fils', 'fin'], ['fining', 'finis', 'fink', 'finks', 'fino', 'finos', 'flic', 'flick'], ['flicks', 'fling', 'flings', 'floc', 'flock', 'flocks', 'flong', 'flongs'], ['flour', 'flours', 'fro', 'frock', 'frocks', 'frolic', 'from', 'frug'], ['frugs', 'fuci', 'fuck', 'fucks', 'fucous', 'fucus', 'fug', 'fugio'], ['fugios', 'fugs', 'fugu', 'fugus', 'fun', 'fungi', 'fungic', 'fungus'], ['funk', 'funks', 'fur', 'furfur', 'furl', 'furls', 'furor', 'furors'], ['furs', 'fusil', 'fusils', 'fusing', 'fusion', 'gig', 'gigs', 'gin'], ['gingko', 'gink', 'ginks', 'gismo', 'gismos', 'glom', 'gloms', 'glomus'], ['gnomon', 'gnosis', 'gnu', 'gnus', 'groin', 'grok', 'groks', 'grugru'], ['grum', 'guck', 'gucks', 'gum', 'gums', 'gun', 'gunk', 'gunks'], ['guru', 'gurus', 'icing', 'icings', 'ick', 'icon', 'iconic', 'ifs'], ['ikon', 'ilium', 'inion', 'ink', 'inking', 'inks', 'inro', 'inrun'], ['inurn', 'ion', 'ionic', 'ionium', 'isling', 'ism', 'isms', 'kick'], ['kicks', 'kif', 'kifs', 'kiln', 'kilo', 'kilos', 'kin', 'king'], ['kings', 'kinin', 'kink', 'kinks', 'kino', 'kinos', 'kiosk', 'kiosks'], ['kis', 'knock', 'knocks', 'knur', 'knurl', 'knurls', 'knurs', 'koi'], ['kois', 'kolo', 'kolos', 'konk', 'konks', 'kor', 'kors', 'korun'], ['kos', 'kouroi', 'kouros', 'kronor', 'kronur', 'lick', 'licks', 'lignin'], ['liking', 'lilo', 'lilos', 'lin', 'ling', 'lings', 'linin', 'lining'], ['link', 'links', 'lino', 'linos', 'linum', 'linums', 'lion', 'lis'], ['loci', 'lock', 'locks', 'loco', 'locos', 'locum', 'locums', 'locus'], ['loin', 'long', 'longs', 'lorn', 'losing', 'louis', 'lour', 'lours'], ['moc', 'mock', 'mocks', 'moil', 'moils', 'mol', 'mols', 'mom'], ['moms', 'momus', 'mon', 'monism', 'monk', 'monks', 'mono', 'monos'], ['mor', 'morn', 'moron', 'mors', 'mos', 'mosk', 'mosks', 'mourn'], ['mucin', 'muck', 'mucks', 'mucor', 'mucors', 'mucous', 'mucro', 'mucus'], ['mug', 'mugs', 'mum', 'mums', 'mumu', 'mumus', 'mun', 'muni'], ['munis', 'muon', 'muonic', 'murk', 'murks', 'mus', 'music', 'musick'], ['musing', 'musk', 'musks', 'muslin', 'nick', 'nicks', 'nicol', 'nicols'], ['nil', 'nils', 'ninon', 'nisi', 'nisus', 'nock', 'nocks', 'noil'], ['noils', 'nolo', 'nolos', 'nom', 'nomoi', 'nomos', 'noms', 'nor'], ['nos', 'nosing', 'noun', 'nous', 'nun', 'nurl', 'nurls', 'nus'], ['oil', 'oiling', 'oils', 'oink', 'oinks', 'olio', 'olios', 'oms'], ['onion', 'onium', 'ono', 'onos', 'onus', 'orc', 'orcin', 'orgic'], ['orlon', 'ornis', 'ors', 'osmol', 'osmols', 'osmous', 'our', 'ours'], ['roc', 'rock', 'rocks', 'rococo', 'roil', 'roils', 'rolf', 'rolfs'], ['rom', 'roms', 'ronion', 'rosin', 'rosing', 'ruck', 'rucks', 'rug'], ['rugs', 'ruin', 'ruing', 'rum', 'rumor', 'rumors', 'rumour', 'rums'], ['run', 'rung', 'rungs', 'runic', 'rusk', 'rusks', 'sic', 'sick'], ['sicko', 'sickos', 'sicks', 'sigil', 'sigils', 'sigloi', 'siglos', 'sign'], ['signor', 'silo', 'silos', 'sin', 'sing', 'sings', 'sink', 'sinks'], ['sinus', 'sis', 'siskin', 'ski', 'skin', 'skink', 'skinks', 'skis'], ['slick', 'slicks', 'sling', 'slings', 'slink', 'slinks', 'smock', 'smocks'], ['smug', 'sock', 'socko', 'socks', 'soil', 'soils', 'sokol', 'sokols'], ['sol', 'soli', 'soling', 'solion', 'solo', 'solon', 'solos', 'sols'], ['som', 'somoni', 'soms', 'son', 'song', 'songs', 'sonic', 'sorn'], ['sorus', 'sos', 'sou', 'sour', 'sours', 'sous', 'suck', 'sucks'], ['suing', 'sum', 'sumo', 'sumos', 'sums', 'sun', 'sung', 'sunk'], ['surf', 'surfs', 'suslik', 'unfurl', 'unguis', 'unific', 'union', 'unison'], ['unkink', 'unlink', 'unlock', 'urging', 'urn', 'urus', 'using']]\n",
            "90\n",
            "{'line': ['186069883', '424222811', '78907739', '344365947', '969831324', '969831324', '969831324'], 'figure': '419205722277329093', 'compressed_dictionary': ['124601914772827798340161346426676743022826761098363317008589555678590171', '129861353782564462506833897546019714328622532814816348657462538640241922', '130185098576996046672820559094285886201834786583637354859447307882019707', '134716475867418531822297665822123707805546858221773147956298281369543078', '135224133769560944012437567614997574135227986690628787304697128460597905', '135208968799621173169132855888194592990837433673064003127188820708467340', '135303328613000055833296508023862072910106911989987288478080264917527419', '135518534281230768885040319726390489657985367095185163687037297612108242', '135693224340698004426575756976549885561654828445398799599763039289215323', '140842687694257873580804253721970789258122885755360517695981782101815163', '145900272659692044699365278857355117719480037002700227741532347733428689', '145925547609750120381524496917520397882743242633251709830996615068076923', '290513426716973560603751202359590202838405653372184055206927473446416251', '290588479825438249142089629378679467651877808643428832095505210720651611', '295484941921053657079990834743509001988565832266675178624547411725858002', '295839174623934676534891173153316940587139984942869392525238597978823547', '306491776220779920883816573287262516591809274260851471976093031065657819', '310916352033618226644961049620133438323916899894000640995255626450246290', '311297860620067113080148427543656669462754334075670426544137155876796978', '311527020166985495757967973028248306831627638999902798005776019727249275', '345798935853453918719222859445982991603013955031144431022792272774640274', '354490357647451901712931617379800975849339937995979134919995498815953460', '361716330931842277195603217754769735334030441450791800472968673442048603', '366744360986034375190304733030998408411325663356086824804875922094780283', '459744382098966550963612681814721119734184156514128376253657182270706107', '465250214024774007971176661134305393102989315538595766759540504167263099', '566068882956780365933687681668763721972410800864732954880332306686843771', '566655261797162124069403494570095834927080866058880485538855135956388178', '566960720107222118459941022648476546529105454113249335058805470271926139', '576758975725540631697079606728014592498650710385595182356826416952693179', '577313339629339909243971653037414956495558364960480378926981679650387213', '621710545099823935268723517120838153673152841772397047872164479747137958', '621876446514891331750508601256365697548305260549284930728802149739360123', '631632577224156154206218170900426168163015357913692472300336307152966235', '631964521568041554310177252320581946276700189787611448720329423568127579', '686878562986569923354630559393318765280896158311420947788680530747617147', '687402596950430083450632736437821851839394237483817420011566787987946075', '687687361387342402583725649981401383026180207012660257216241560462181819', '697198430393688476025253048401242622673258972224682695214952513496240731', '697446862089948023888169521274076262964270541787924659328295358727365499', '697791812501702271087166237625968775204220559736460655123004552221630538', '698061114132245061776233291606451233988898748808100348135923301658737010', '732225193322962194207843926162527763694730876914377360867105060778422139', '742388619320800828075797963514427551461706534981018981975054506565103483', '742955252106464883323415881479719688121941766141538323572143716104236923', '787439164148692310476665964079474531632066124407694724995663339071303547', '795881945267371725812088582059815919270288024358354850039800423955767387', '802945451300825492624853837476667119326090487401962686775672230499634043', '962948417115302562172911666454157970333263916455818892015277238403831387', '963487616049160297311618037483115566133775573002996570594586569749000059', '973501551248772977721954589337515695045905295532453088056136595803622267', '973894155472353458055567126097579395899029295171019359546547982244588411', '1007780438937991271493782108178278073830394670150970288261621596748461947', '1008001157046741873882755376991568095086189256408186027938862304432925275', '1008390618356749689849367413904944651730528296894918591307706491166018427', '1013266577465282454235573155010740807821308913711141979092156432857368914', '1015646687917670595860727839333360545846816467868260779882891487524239730', '1018647666981506614227369772949386696526175257982234058915946148185623419', '1018701586874899832298089748524769644770657024524111385637956433687918459', '1018958917459914368923529560918842102007735157957932358113262219301038683', '1028813831099014940731189037217341187136574035507324937305119099749575547', '1029286735944968715429486441089813050987288815945570123365723680305072589', '1127263472055073681126494625378099229201469867477557897766816280333939612', '1595861864961121329946204194219410272360308035887655833142095923748172700', '1595861864961121329946204194219410272360308035887655833142095923748172700', '1595861864961121329946204194219410272360308035887655833142095923748172700', '1595861864961121329946204194219410272360308035887655833142095923748172700', '1595861864961121329946204194219410272360308035887655833142095923748172700', '1595861864961121329946204194219410272360308035887655833142095923748172700', '1595861864961121329946204194219410272360308035887655833142095923748172700', '1595861864961121329946204194219410272360308035887655833142095923748172700', '1595861864961121329946204194219410272360308035887655833142095923748172700', '1595861864961121329946204194219410272360308035887655833142095923748172700', '1595861864961121329946204194219410272360308035887655833142095923748172700', '1595861864961121329946204194219410272360308035887655833142095923748172700', '1595861864961121329946204194219410272360308035887655833142095923748172700', '1595861864961121329946204194219410272360308035887655833142095923748172700', '1595861864961121329946204194219410272360308035887655833142095923748172700', '1595861864961121329946204194219410272360308035887655833142095923748172700', '1595861864961121329946204194219410272360308035887655833142095923748172700', '1595861864961121329946204194219410272360308035887655833142095923748172700', '1595861864961121329946204194219410272360308035887655833142095923748172700', '1595861864961121329946204194219410272360308035887655833142095923748172700', '1595861864961121329946204194219410272360308035887655833142095923748172700', '1595861864961121329946204194219410272360308035887655833142095923748172700', '1595861864961121329946204194219410272360308035887655833142095923748172700', '1595861864961121329946204194219410272360308035887655833142095923748172700', '1595861864961121329946204194219410272360308035887655833142095923748172700', '1595861864961121329946204194219410272360308035887655833142095923748172700', '1595861864961121329946204194219410272360308035887655833142095923748172700'], 'address': 'FILL_HERE', 'private_address': 'FILL_HERE'}\n"
          ],
          "name": "stdout"
        }
      ]
    },
    {
      "cell_type": "code",
      "metadata": {
        "colab": {
          "base_uri": "https://localhost:8080/"
        },
        "id": "4-uUmapDOgOi",
        "outputId": "e829a3da-7e38-42f3-cb71-c98364ae0d5f"
      },
      "source": [
        "good_seeds[0]['figure']"
      ],
      "execution_count": 46,
      "outputs": [
        {
          "output_type": "execute_result",
          "data": {
            "text/plain": [
              "[['l', 'u', 'k'], ['r', 'm', 'i'], ['s', 'c', 'n'], ['o', 'g', 'f']]"
            ]
          },
          "metadata": {},
          "execution_count": 46
        }
      ]
    },
    {
      "cell_type": "code",
      "metadata": {
        "id": "uBOSxSB0TV5F",
        "colab": {
          "base_uri": "https://localhost:8080/"
        },
        "outputId": "03862902-ed2f-48b4-e53b-9fc054c59834"
      },
      "source": [
        "good_seeds[0]['line']"
      ],
      "execution_count": 47,
      "outputs": [
        {
          "output_type": "execute_result",
          "data": {
            "text/plain": [
              "['from', 'music', 'click', 'king']"
            ]
          },
          "metadata": {},
          "execution_count": 47
        }
      ]
    },
    {
      "cell_type": "code",
      "metadata": {
        "id": "8y7beiclMPnZ"
      },
      "source": [
        ""
      ],
      "execution_count": 34,
      "outputs": []
    }
  ]
}